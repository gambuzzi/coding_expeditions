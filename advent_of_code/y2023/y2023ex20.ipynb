{
  "nbformat": 4,
  "nbformat_minor": 0,
  "metadata": {
    "colab": {
      "provenance": []
    },
    "kernelspec": {
      "name": "python3",
      "display_name": "Python 3"
    },
    "language_info": {
      "name": "python"
    }
  },
  "cells": [
    {
      "cell_type": "code",
      "execution_count": null,
      "metadata": {
        "id": "s8-ySfUJnzMF"
      },
      "outputs": [],
      "source": [
        "#@title Readme input\n",
        "# https://adventofcode.com/2023/day/20\n",
        "readme_input=\"\"\"broadcaster -> a, b, c\n",
        "%a -> b\n",
        "%b -> c\n",
        "%c -> inv\n",
        "&inv -> a\"\"\""
      ]
    },
    {
      "cell_type": "code",
      "source": [
        "#@title input\n",
        "_input=\"\"\"%pj -> sh\n",
        "%mn -> jp\n",
        "&hf -> rg, vl, tq, qq, mv, zz\n",
        "%xl -> hf\n",
        "%sv -> mn, dl\n",
        "%kk -> lh\n",
        "&sj -> kz\n",
        "%jj -> lq, kk\n",
        "%mr -> bm, hb\n",
        "%sx -> lq, fn\n",
        "%fn -> zr, lq\n",
        "%pf -> dl, gv\n",
        "%lr -> jj, lq\n",
        "%jp -> dl, pj\n",
        "&hb -> sj, mr, rz, qg, pr\n",
        "%vg -> zz, hf\n",
        "%pr -> zq\n",
        "%hn -> pf\n",
        "%jg -> tj\n",
        "%qg -> vk\n",
        "%dv -> xl, hf\n",
        "&qq -> kz\n",
        "%fm -> lr\n",
        "&ls -> kz\n",
        "%pd -> hb, xg\n",
        "%rj -> hb\n",
        "%fb -> hf, tq\n",
        "%zz -> np\n",
        "%bm -> pd, hb\n",
        "%xn -> lq, fm\n",
        "%gv -> jg, dl\n",
        "%dz -> sx\n",
        "%zs -> dl, nh\n",
        "%tj -> zs, dl\n",
        "%mv -> vl\n",
        "&kz -> rx\n",
        "%np -> cl, hf\n",
        "&bg -> kz\n",
        "%vl -> vg\n",
        "%xg -> rz, hb\n",
        "%rz -> pr\n",
        "%zq -> hb, qg\n",
        "%lh -> rd\n",
        "%zr -> lq\n",
        "%fl -> hb, rj\n",
        "%xr -> xn, lq\n",
        "%rd -> dz, lq\n",
        "%cl -> hf, gj\n",
        "%nh -> dl\n",
        "%sh -> hn, dl\n",
        "%vk -> fx, hb\n",
        "%gj -> hf, dv\n",
        "%tq -> mv\n",
        "&dl -> hn, pj, ls, mn, jg, sv\n",
        "%fx -> fl, hb\n",
        "&lq -> bg, kk, dz, xr, lh, fm\n",
        "%rg -> hf, fb\n",
        "broadcaster -> xr, mr, rg, sv\"\"\""
      ],
      "metadata": {
        "id": "M0SjGiF-imbZ",
        "cellView": "form"
      },
      "execution_count": null,
      "outputs": []
    },
    {
      "cell_type": "code",
      "source": [
        "from pprint import pprint\n",
        "\n",
        "LOW = -1\n",
        "HIGH = 1\n",
        "OFF = 0\n",
        "ON = 2\n",
        "\n",
        "def parser(s):\n",
        "    flip_flop = {}\n",
        "    conjunction = {}\n",
        "    for line in s.splitlines():\n",
        "        key, values = line.split(' -> ')\n",
        "        values = values.split(', ')\n",
        "        if key.startswith(\"broadcaster\"):\n",
        "            broadcaster = values\n",
        "        elif key.startswith(\"%\"):\n",
        "            flip_flop[key[1:]] = values\n",
        "        elif key.startswith(\"&\"):\n",
        "            conjunction[key[1:]] = values\n",
        "\n",
        "    return broadcaster, flip_flop, conjunction\n",
        "\n",
        "\n",
        "pprint(parser(readme_input))"
      ],
      "metadata": {
        "colab": {
          "base_uri": "https://localhost:8080/"
        },
        "id": "5vWaCTT5h8dG",
        "outputId": "a7b05f28-3102-4686-ae15-ad750018692b"
      },
      "execution_count": null,
      "outputs": [
        {
          "output_type": "stream",
          "name": "stdout",
          "text": [
            "(['a', 'b', 'c'], {'a': ['b'], 'b': ['c'], 'c': ['inv']}, {'inv': ['a']})\n"
          ]
        }
      ]
    },
    {
      "cell_type": "code",
      "source": [
        "from collections import deque\n",
        "\n",
        "def part1(broadcaster, flip_flop, conjunction):\n",
        "    low = 0\n",
        "    high = 0\n",
        "\n",
        "    flip_flop_state = {\n",
        "        x:OFF for x in flip_flop\n",
        "    }\n",
        "\n",
        "    conjunction_inputs = {}\n",
        "    for k in conjunction:\n",
        "        inputs = []\n",
        "        for i, vs in flip_flop.items():\n",
        "            for v in vs:\n",
        "                if v==k:  # i is an input of k\n",
        "                    inputs.append(i)\n",
        "        conjunction_inputs[k] = {\n",
        "            x:LOW for x in inputs\n",
        "        }\n",
        "\n",
        "    def send_high(_type, node):\n",
        "        for dest_node in _type[node]:\n",
        "            stack.append((HIGH, dest_node, node))\n",
        "\n",
        "    def send_low(_type, node):\n",
        "        for dest_node in _type[node]:\n",
        "            stack.append((LOW, dest_node, node))\n",
        "\n",
        "    for _ in range(1000):\n",
        "        stack = deque([(LOW, \"broadcaster\", \"~~~BUTTON~~~\")])\n",
        "        while stack:\n",
        "            signal, node, _from = stack.popleft()\n",
        "            if signal==LOW:\n",
        "                low+=1\n",
        "            else:\n",
        "                high+=1\n",
        "            # print(f'{_from} -{\"LOW\" if signal==LOW else \"HIGH\"}-> {node}')\n",
        "            if node == \"broadcaster\":\n",
        "                for n in broadcaster:\n",
        "                    stack.append((signal, n, node))\n",
        "                continue\n",
        "\n",
        "            if node in flip_flop and signal==LOW:\n",
        "                if flip_flop_state[node] == OFF:\n",
        "                    flip_flop_state[node] = ON\n",
        "                    send_high(flip_flop, node)\n",
        "                elif flip_flop_state[node] == ON:\n",
        "                    flip_flop_state[node] = OFF\n",
        "                    send_low(flip_flop, node)\n",
        "\n",
        "            if node in conjunction:\n",
        "                conjunction_inputs[node][_from] = signal\n",
        "                if all(x==HIGH for x in conjunction_inputs[node].values()):\n",
        "                    send_low(conjunction, node)\n",
        "                else:\n",
        "                    send_high(conjunction, node)\n",
        "\n",
        "    return low*high\n",
        "\n",
        "print(part1(*parser(readme_input)))\n",
        "print(part1(*parser(_input)))"
      ],
      "metadata": {
        "colab": {
          "base_uri": "https://localhost:8080/"
        },
        "id": "RSnUGyNrjgZA",
        "outputId": "7bc37b99-bad3-443b-8268-39ba01554b7d"
      },
      "execution_count": null,
      "outputs": [
        {
          "output_type": "stream",
          "name": "stdout",
          "text": [
            "32000000\n",
            "944750144\n"
          ]
        }
      ]
    },
    {
      "cell_type": "code",
      "source": [
        "from itertools import count\n",
        "\n",
        "def part2(broadcaster, flip_flop, conjunction, wait_for='rx'):\n",
        "    flip_flop_state = {\n",
        "        x:OFF for x in flip_flop\n",
        "    }\n",
        "\n",
        "    conjunction_inputs = {}\n",
        "    for k in conjunction:\n",
        "        inputs = []\n",
        "        for i, vs in flip_flop.items():\n",
        "            for v in vs:\n",
        "                if v==k:  # i is an input of k\n",
        "                    inputs.append(i)\n",
        "        conjunction_inputs[k] = {\n",
        "            x:LOW for x in inputs\n",
        "        }\n",
        "\n",
        "    def send_high(_type, node):\n",
        "        for dest_node in _type[node]:\n",
        "            stack.append((HIGH, dest_node, node))\n",
        "\n",
        "    def send_low(_type, node):\n",
        "        for dest_node in _type[node]:\n",
        "            stack.append((LOW, dest_node, node))\n",
        "\n",
        "    start = None\n",
        "    for step in count(start=1):\n",
        "        stack = deque([(LOW, \"broadcaster\", \"~~~BUTTON~~~\")])\n",
        "        while stack:\n",
        "            signal, node, _from = stack.popleft()\n",
        "            if node==wait_for and signal==LOW:\n",
        "                return step\n",
        "            # print(f'{_from} -{\"LOW\" if signal==LOW else \"HIGH\"}-> {node}')\n",
        "            if node == \"broadcaster\":\n",
        "                for n in broadcaster:\n",
        "                    stack.append((signal, n, node))\n",
        "                continue\n",
        "\n",
        "            if node in flip_flop and signal==LOW:\n",
        "                if flip_flop_state[node] == OFF:\n",
        "                    flip_flop_state[node] = ON\n",
        "                    send_high(flip_flop, node)\n",
        "                elif flip_flop_state[node] == ON:\n",
        "                    flip_flop_state[node] = OFF\n",
        "                    send_low(flip_flop, node)\n",
        "\n",
        "            if node in conjunction:\n",
        "                conjunction_inputs[node][_from] = signal\n",
        "                if all(x==HIGH for x in conjunction_inputs[node].values()):\n",
        "                    send_low(conjunction, node)\n",
        "                else:\n",
        "                    send_high(conjunction, node)\n",
        "    # return low*high\n",
        "\n",
        "# see https://kroki.io/mermaid/png/eNpl1EtuxCAMANC9TzGr7HqFrnqEXmAYCogA5RMhxOkLMTbSdPfk8LMx0fkZzeP7C6J9fHx8PooBH27ZCIdRN7NmVse8EvNI274ye4fmcIBRUCp-D6RDOjjPm87AUfAEx9nBLrpEPE_w-ZbwpMMIKI1HLqoACjPomTQ_R8WbLuoKDleylnRvGXnkYrQjJ4HRsu0zM3dm0syYoWoqxdIsRcTNegKDB4wKLH6-LCRUPUFioZojzcmj2Fwo5bF84yCucDRKrs9i05AtB5XgxRbHXfZ-K0QQuGiUpDmn7UouKg8aT2U1adZM4kKlQS8cXAwGLjxHL6T52VfurhOn5wYBi_9ypDt7oTnPis1VNTRNt9A0Hzl3uoSeOLg4LskZnCOh77tXblcJmS00_N4CaY7MWFnZSTP42u2-qC0Ew3kWpAmkGaz4BlQjzd215ZUWZYUr8ROTjlYiziZdHM3A9nvEuCdiqaDWe3Gkue1IAi00e7w94siW2DJzvt7F0RR59_miEiDy71O-nuX6yTT7PeT_h8aP5z1U6h_x2DWj\n",
        "print(\n",
        "    part2(*parser(_input), wait_for='bg') *\n",
        "    part2(*parser(_input), wait_for='ls') *\n",
        "    part2(*parser(_input), wait_for='qq') *\n",
        "    part2(*parser(_input), wait_for='sj')\n",
        "    )\n",
        "222718819437131\n",
        "\n"
      ],
      "metadata": {
        "colab": {
          "base_uri": "https://localhost:8080/"
        },
        "id": "d0h_J5_tkpFW",
        "outputId": "ac250ef3-216d-434b-88cd-de57d15a9093"
      },
      "execution_count": null,
      "outputs": [
        {
          "output_type": "stream",
          "name": "stdout",
          "text": [
            "222718819437131\n"
          ]
        },
        {
          "output_type": "execute_result",
          "data": {
            "text/plain": [
              "222718819437131"
            ]
          },
          "metadata": {},
          "execution_count": 63
        }
      ]
    },
    {
      "cell_type": "markdown",
      "source": [
        "![y2023day20part2.png](https://kroki.io/mermaid/svg/eNpl1EtuxCAMANC9TzGr7HqFrnqEXmAYCogA5RMhxOkLMTbSdPfk8LMx0fkZzeP7C6J9fHx8PooBH27ZCIdRN7NmVse8EvNI274ye4fmcIBRUCp-D6RDOjjPm87AUfAEx9nBLrpEPE_w-ZbwpMMIKI1HLqoACjPomTQ_R8WbLuoKDleylnRvGXnkYrQjJ4HRsu0zM3dm0syYoWoqxdIsRcTNegKDB4wKLH6-LCRUPUFioZojzcmj2Fwo5bF84yCucDRKrs9i05AtB5XgxRbHXfZ-K0QQuGiUpDmn7UouKg8aT2U1adZM4kKlQS8cXAwGLjxHL6T52VfurhOn5wYBi_9ypDt7oTnPis1VNTRNt9A0Hzl3uoSeOLg4LskZnCOh77tXblcJmS00_N4CaY7MWFnZSTP42u2-qC0Ew3kWpAmkGaz4BlQjzd215ZUWZYUr8ROTjlYiziZdHM3A9nvEuCdiqaDWe3Gkue1IAi00e7w94siW2DJzvt7F0RR59_miEiDy71O-nuX6yTT7PeT_h8aP5z1U6h_x2DWj)"
      ],
      "metadata": {
        "id": "I4IkpFycoPTE"
      }
    }
  ]
}