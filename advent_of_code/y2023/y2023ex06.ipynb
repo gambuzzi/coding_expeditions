{
  "nbformat": 4,
  "nbformat_minor": 0,
  "metadata": {
    "colab": {
      "provenance": []
    },
    "kernelspec": {
      "name": "python3",
      "display_name": "Python 3"
    },
    "language_info": {
      "name": "python"
    }
  },
  "cells": [
    {
      "cell_type": "code",
      "execution_count": null,
      "metadata": {
        "id": "s8-ySfUJnzMF"
      },
      "outputs": [],
      "source": [
        "#@title Readme input\n",
        "# https://adventofcode.com/2023/day/6\n",
        "readme_input=\"\"\"Time:      7  15   30\n",
        "Distance:  9  40  200\"\"\""
      ]
    },
    {
      "cell_type": "code",
      "source": [
        "#@title input\n",
        "_input=\"\"\"Time:        35     93     73     66\n",
        "Distance:   212   2060   1201   1044\"\"\""
      ],
      "metadata": {
        "id": "M0SjGiF-imbZ"
      },
      "execution_count": null,
      "outputs": []
    },
    {
      "cell_type": "code",
      "source": [
        "from pprint import pprint\n",
        "\n",
        "def parser(s):\n",
        "    for line in s.splitlines():\n",
        "        if line.startswith('Time'):\n",
        "            _, *time = line.split()\n",
        "            time=map(int,time)\n",
        "        elif line.startswith('Distance'):\n",
        "            _, *distance = line.split()\n",
        "            distance=map(int,distance)\n",
        "    return list(zip(time, distance))\n",
        "pprint(parser(readme_input))"
      ],
      "metadata": {
        "colab": {
          "base_uri": "https://localhost:8080/"
        },
        "id": "5vWaCTT5h8dG",
        "outputId": "0b2b7728-5cfb-4a1a-fca2-628db2ee3b44"
      },
      "execution_count": null,
      "outputs": [
        {
          "output_type": "stream",
          "name": "stdout",
          "text": [
            "[(7, 9), (15, 40), (30, 200)]\n"
          ]
        }
      ]
    },
    {
      "cell_type": "code",
      "source": [
        "def part1(data):\n",
        "    ret = 1\n",
        "    for game in data:\n",
        "        time, dist = game\n",
        "        acc = 0\n",
        "        for press in range(time):\n",
        "            distance = press*(time-press)\n",
        "            if distance>dist:\n",
        "                acc+=1\n",
        "        ret *= acc\n",
        "    return ret\n",
        "\n",
        "print(part1(parser(readme_input)))\n",
        "print(part1(parser(_input)))"
      ],
      "metadata": {
        "colab": {
          "base_uri": "https://localhost:8080/"
        },
        "id": "RSnUGyNrjgZA",
        "outputId": "e2219b86-4744-460b-f67c-5207a7793430"
      },
      "execution_count": null,
      "outputs": [
        {
          "output_type": "stream",
          "name": "stdout",
          "text": [
            "288\n",
            "114400\n"
          ]
        }
      ]
    },
    {
      "cell_type": "code",
      "source": [
        "from numba import njit\n",
        "\n",
        "@njit\n",
        "def nint(s):\n",
        "    ret = 0\n",
        "    for c in s:\n",
        "        ret *= 10\n",
        "        ret += ord(c) - 48\n",
        "    return ret\n",
        "\n",
        "\n",
        "@njit\n",
        "def part2(s):\n",
        "    for line in s.splitlines():\n",
        "        if line.startswith('Time'):\n",
        "            time = line.split()\n",
        "            time=nint(''.join(time[1::]))\n",
        "        elif line.startswith('Distance'):\n",
        "            distance = line.split()\n",
        "            distance=nint(''.join(distance[1::]))\n",
        "    acc = 0\n",
        "    for press in range(time):\n",
        "        dist = press*(time-press)\n",
        "        if dist>distance:\n",
        "            acc+=1\n",
        "\n",
        "    return acc\n",
        "\n",
        "print(part2(readme_input))\n",
        "print(part2(_input))\n",
        "%timeit -n 10 part2(_input)"
      ],
      "metadata": {
        "colab": {
          "base_uri": "https://localhost:8080/"
        },
        "id": "d0h_J5_tkpFW",
        "outputId": "5a2af643-d26e-40b4-f621-55706f5ac8c9"
      },
      "execution_count": null,
      "outputs": [
        {
          "output_type": "stream",
          "name": "stdout",
          "text": [
            "71503\n",
            "21039729\n",
            "17.7 ms ± 179 µs per loop (mean ± std. dev. of 7 runs, 10 loops each)\n"
          ]
        }
      ]
    },
    {
      "cell_type": "code",
      "source": [
        "def part2(s):\n",
        "    for line in s.splitlines():\n",
        "        if line.startswith('Time'):\n",
        "            _, time = line.split(maxsplit=1)\n",
        "            time=int(time.replace(' ',''))\n",
        "        elif line.startswith('Distance'):\n",
        "            _, distance = line.split(maxsplit=1)\n",
        "            distance=int(distance.replace(' ',''))\n",
        "\n",
        "    acc = 0\n",
        "    for press in range(time):\n",
        "        dist = press*(time-press)\n",
        "        if dist>distance:\n",
        "            acc+=1\n",
        "\n",
        "    return acc\n",
        "\n",
        "print(part2(readme_input))\n",
        "print(part2(_input))\n",
        "%timeit -n 2 -r 2 part2(_input)"
      ],
      "metadata": {
        "colab": {
          "base_uri": "https://localhost:8080/"
        },
        "outputId": "f826b8ae-abd2-4e5b-810d-a6c8b384014f",
        "id": "oyOxlmX1wCCa"
      },
      "execution_count": null,
      "outputs": [
        {
          "output_type": "stream",
          "name": "stdout",
          "text": [
            "71503\n",
            "21039729\n",
            "6.57 s ± 19.3 ms per loop (mean ± std. dev. of 2 runs, 2 loops each)\n"
          ]
        }
      ]
    },
    {
      "cell_type": "code",
      "source": [
        "def part2(s):\n",
        "    for line in s.splitlines():\n",
        "        if line.startswith('Time'):\n",
        "            _, time = line.split(maxsplit=1)\n",
        "            time=int(time.replace(' ',''))\n",
        "        elif line.startswith('Distance'):\n",
        "            _, distance = line.split(maxsplit=1)\n",
        "            distance=int(distance.replace(' ',''))\n",
        "\n",
        "    left = (time - (time**2-4*distance)**0.5)/2\n",
        "    right = (time + (time**2-4*distance)**0.5)/2\n",
        "\n",
        "    left = int(left) + (1 if int(left)-left!=0 else 0)\n",
        "    right = int(right)\n",
        "\n",
        "    return right-left+1\n",
        "\n",
        "print(part2(readme_input))\n",
        "print(part2(_input))\n",
        "%timeit -n 4 -r 4 part2(_input)"
      ],
      "metadata": {
        "colab": {
          "base_uri": "https://localhost:8080/"
        },
        "id": "2yNaxX8OD3Yt",
        "outputId": "4feb9bdb-f46a-473a-9495-c666101eee01"
      },
      "execution_count": null,
      "outputs": [
        {
          "output_type": "stream",
          "name": "stdout",
          "text": [
            "71503\n",
            "21039729\n",
            "9.88 µs ± 1.6 µs per loop (mean ± std. dev. of 4 runs, 4 loops each)\n"
          ]
        }
      ]
    }
  ]
}